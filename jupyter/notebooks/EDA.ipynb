{
 "cells": [
  {
   "cell_type": "markdown",
   "metadata": {
    "id": "E0cQ4L7rNdaC"
   },
   "source": [
    "## Proyecto Final\n",
    "Integrantes:\n",
    "- Miguel Nieto\n",
    "- Jhan Utria\n",
    "- Camilo Ruiz\n",
    "- Hermann Blanco\n",
    "\n",
    "Universidad del Norte - Estructura del Computador II"
   ]
  },
  {
   "cell_type": "markdown",
   "metadata": {},
   "source": [
    "### Descripción del contexto.\n",
    "\n",
    "Análisis exploratorio de Datos (EDA) del dataset *indian_prison.csv*, que contiene información sobre la población de prisioneros en la India de los años 2001 al 2013.\n",
    "\n",
    "La descripción de las columnas del dataset es la siguiente:\n",
    "\n",
    "|Columna |\tDescripción |  \n",
    "|--------|--------------|\n",
    "|State_UT_name|Estado en donde se llevo el censo |   \n",
    "|Year| año del censo|   \n",
    "|Jail_Type|\tTipo de institución  | \n",
    "|year |\taño de la observación|   \n",
    "|Male_Convicts | Convictos masculinos|  \n",
    "|Female_Convicts |\tConvictos femeninos|  \n",
    "|Total_Convicts|\tNúmero total de convictos |  \n",
    "|Male_Under_trial| \tHombres bajo juicio  | \n",
    "|Female_Under_trial| Mujeres bajo juicio | \n",
    "|Total_Under_trial| Total de personas bajo juicio|\n",
    "|Male_Detenues| detenidos masculinos|\n",
    "|Female_Detenues|detenidos femeninos|\n",
    "|Total_Detenues| total de detenidos|\n",
    "|Male_Others| ocupantes masculinos bajo otra razón|\n",
    "|Female_Others|ocupantes femeninos bajo otra razón|\n",
    "|Total_Others|Número total de ocupantes bajo otra razón|\n",
    "|Total_Male|Número total de ocupantes masculinos|\n",
    "|Total_Female|Número total de ocupantes femeninos|\n",
    "|Grand_Total| Número total de ocupantes|"
   ]
  },
  {
   "cell_type": "code",
   "execution_count": 1,
   "metadata": {},
   "outputs": [
    {
     "ename": "UndefinedFile",
     "evalue": "could not open file \"./poblacion_prision_india.csv\" for reading: No such file or directory\nHINT:  COPY FROM instructs the PostgreSQL server process to read a file. You may want a client-side facility such as psql's \\copy.\n",
     "output_type": "error",
     "traceback": [
      "\u001b[0;31m---------------------------------------------------------------------------\u001b[0m",
      "\u001b[0;31mUndefinedFile\u001b[0m                             Traceback (most recent call last)",
      "\u001b[0;32m<ipython-input-1-8d2c45ce1815>\u001b[0m in \u001b[0;36m<module>\u001b[0;34m\u001b[0m\n\u001b[1;32m     17\u001b[0m \u001b[0;34m\u001b[0m\u001b[0m\n\u001b[1;32m     18\u001b[0m \u001b[0;31m#Creating a database\u001b[0m\u001b[0;34m\u001b[0m\u001b[0;34m\u001b[0m\u001b[0;34m\u001b[0m\u001b[0m\n\u001b[0;32m---> 19\u001b[0;31m \u001b[0mcursor\u001b[0m\u001b[0;34m.\u001b[0m\u001b[0mexecute\u001b[0m\u001b[0;34m(\u001b[0m\u001b[0msql\u001b[0m\u001b[0;34m)\u001b[0m\u001b[0;34m\u001b[0m\u001b[0;34m\u001b[0m\u001b[0m\n\u001b[0m\u001b[1;32m     20\u001b[0m \u001b[0;34m\u001b[0m\u001b[0m\n\u001b[1;32m     21\u001b[0m \u001b[0mrecords\u001b[0m \u001b[0;34m=\u001b[0m \u001b[0mcursor\u001b[0m\u001b[0;34m.\u001b[0m\u001b[0mfetchone\u001b[0m\u001b[0;34m(\u001b[0m\u001b[0;34m)\u001b[0m\u001b[0;34m\u001b[0m\u001b[0;34m\u001b[0m\u001b[0m\n",
      "\u001b[0;31mUndefinedFile\u001b[0m: could not open file \"./poblacion_prision_india.csv\" for reading: No such file or directory\nHINT:  COPY FROM instructs the PostgreSQL server process to read a file. You may want a client-side facility such as psql's \\copy.\n"
     ]
    }
   ],
   "source": [
    "import psycopg2\n",
    "\n",
    "#establishing the connection\n",
    "conn = psycopg2.connect(\n",
    "   database='indian_prison_db', user='postgres', password='sa123456', host='postgresdb', port='5432'\n",
    ")\n",
    "conn.autocommit = True\n",
    "\n",
    "#Creating a cursor object using the cursor() method\n",
    "cursor = conn.cursor()\n",
    "\n",
    "#Preparing query to create a database\n",
    "sql = '''COPY indian_prison(state_ut_name, year, jail_type, male_convicts, female_convicts, total_convicts, male_under_trial, female_under_trial, total_under_trial, male_detenues, female_detenues, total_detenues, male_others, female_others, total_others, total_male, total_female, grand_total)\n",
    "FROM './poblacion_prision_india.csv'\n",
    "DELIMITER ','\n",
    "CSV HEADER;''';\n",
    "\n",
    "#Creating a database\n",
    "cursor.execute(sql)\n",
    "\n",
    "records = cursor.fetchone()\n",
    "for row in records:\n",
    "    print(row)\n",
    "\n",
    "#Closing the connection\n",
    "conn.close()"
   ]
  },
  {
   "cell_type": "markdown",
   "metadata": {
    "id": "P50wzskHNdaE"
   },
   "source": [
    "### Ejercicio 1\n",
    "\n",
    "Importa las librerias pandas, numpy, matplotlib y seaborn\n",
    "\n",
    "#### Respuesta"
   ]
  },
  {
   "cell_type": "code",
   "execution_count": 1,
   "metadata": {
    "id": "EM_veTliNdaF"
   },
   "outputs": [],
   "source": [
    "%matplotlib inline"
   ]
  },
  {
   "cell_type": "code",
   "execution_count": 1,
   "metadata": {
    "id": "GNLQ8KKyNdaG"
   },
   "outputs": [],
   "source": [
    "import numpy as np\n",
    "import pandas as pd\n",
    "import matplotlib.pyplot as plt\n",
    "import seaborn as sns"
   ]
  },
  {
   "cell_type": "markdown",
   "metadata": {
    "id": "ywriQ5l4N9wm"
   },
   "source": [
    "### Ejercicio 2\n",
    "Lea el archivo *poblacion_prision_india.csv* usando Pandas y guardelo en un dataframe.\n"
   ]
  },
  {
   "cell_type": "code",
   "execution_count": 24,
   "metadata": {
    "id": "xcN-xoMdOJAt"
   },
   "outputs": [
    {
     "name": "stdout",
     "output_type": "stream",
     "text": [
      "state_ut_name, year, jail_type, male_convicts, female_convicts, total_convicts, male_under_trial, female_under_trial, total_under_trial, male_detenues, female_detenues, total_detenues, male_others, female_others, total_others, total_male, total_female, grand_total\n"
     ]
    }
   ],
   "source": [
    "df = pd.read_csv('poblacion_prision_india.csv')\n",
    "arr = df.columns.values\n",
    "arr = np.array(arr, dtype='str')\n",
    "arr[3] = 'Male_Convicts'\n",
    "a = np.char.lower(arr)\n",
    "print(\", \".join(a))"
   ]
  },
  {
   "cell_type": "code",
   "execution_count": 19,
   "metadata": {},
   "outputs": [
    {
     "name": "stdout",
     "output_type": "stream",
     "text": [
      "State_UT_name VARCHAR(50),\n",
      "Year INT,\n",
      "Jail_Type VARCHAR(50),\n",
      "Male Convicts INT,\n",
      "Female_Convicts INT,\n",
      "Total_Convicts INT,\n",
      "Male_Under_trial INT,\n",
      "Female_Under_trial INT,\n",
      "Total_Under_trial INT,\n",
      "Male_Detenues INT,\n",
      "Female_Detenues INT,\n",
      "Total_Detenues INT,\n",
      "Male_Others INT,\n",
      "Female_Others INT,\n",
      "Total_Others INT,\n",
      "Total_Male INT,\n",
      "Total_Female INT,\n",
      "Grand_Total INT,\n"
     ]
    }
   ],
   "source": [
    "#cols_with_comma = \", \".join(df.columns)\n",
    "cols_with_comma = [ f'{col} VARCHAR(50),' if i in [0, 2] else f'{col} INT,' for i, col in enumerate(df.columns)]\n",
    "cols_with_comma = \"\\n\".join(cols_with_comma) # Cambiar Male_Convicts\n",
    "print(cols_with_comma)"
   ]
  },
  {
   "cell_type": "code",
   "execution_count": 22,
   "metadata": {},
   "outputs": [
    {
     "name": "stdout",
     "output_type": "stream",
     "text": [
      "CREATE TABLE indian_prison (\n",
      "id SERIAL PRIMARY KEY,\n",
      "State_UT_name VARCHAR(50),\n",
      "Year INT,\n",
      "Jail_Type VARCHAR(50),\n",
      "Male Convicts INT,\n",
      "Female_Convicts INT,\n",
      "Total_Convicts INT,\n",
      "Male_Under_trial INT,\n",
      "Female_Under_trial INT,\n",
      "Total_Under_trial INT,\n",
      "Male_Detenues INT,\n",
      "Female_Detenues INT,\n",
      "Total_Detenues INT,\n",
      "Male_Others INT,\n",
      "Female_Others INT,\n",
      "Total_Others INT,\n",
      "Total_Male INT,\n",
      "Total_Female INT,\n",
      "Grand_Total INT,\n",
      ")\n"
     ]
    }
   ],
   "source": [
    "query = f'''CREATE TABLE indian_prison (\n",
    "id SERIAL PRIMARY KEY,\n",
    "{cols_with_comma}\n",
    ")'''\n",
    "print(query)"
   ]
  },
  {
   "cell_type": "markdown",
   "metadata": {
    "id": "RW2UOflPM2sj"
   },
   "source": [
    "### Ejercicio 3\n",
    "Muestre los 10 primeros registros del dataframe\n",
    "#### Respuesta"
   ]
  },
  {
   "cell_type": "code",
   "execution_count": null,
   "metadata": {
    "colab": {
     "base_uri": "https://localhost:8080/",
     "height": 566
    },
    "id": "zBOcMqEmMu8G",
    "outputId": "60a73b56-3b47-47c2-ada7-1c468e3891ef"
   },
   "outputs": [
    {
     "data": {
      "text/html": [
       "<div>\n",
       "<style scoped>\n",
       "    .dataframe tbody tr th:only-of-type {\n",
       "        vertical-align: middle;\n",
       "    }\n",
       "\n",
       "    .dataframe tbody tr th {\n",
       "        vertical-align: top;\n",
       "    }\n",
       "\n",
       "    .dataframe thead th {\n",
       "        text-align: right;\n",
       "    }\n",
       "</style>\n",
       "<table border=\"1\" class=\"dataframe\">\n",
       "  <thead>\n",
       "    <tr style=\"text-align: right;\">\n",
       "      <th></th>\n",
       "      <th>State_UT_name</th>\n",
       "      <th>Year</th>\n",
       "      <th>Jail_Type</th>\n",
       "      <th>Male Convicts</th>\n",
       "      <th>Female_Convicts</th>\n",
       "      <th>Total_Convicts</th>\n",
       "      <th>Male_Under_trial</th>\n",
       "      <th>Female_Under_trial</th>\n",
       "      <th>Total_Under_trial</th>\n",
       "      <th>Male_Detenues</th>\n",
       "      <th>Female_Detenues</th>\n",
       "      <th>Total_Detenues</th>\n",
       "      <th>Male_Others</th>\n",
       "      <th>Female_Others</th>\n",
       "      <th>Total_Others</th>\n",
       "      <th>Total_Male</th>\n",
       "      <th>Total_Female</th>\n",
       "      <th>Grand_Total</th>\n",
       "    </tr>\n",
       "  </thead>\n",
       "  <tbody>\n",
       "    <tr>\n",
       "      <th>0</th>\n",
       "      <td>Andhra Pradesh</td>\n",
       "      <td>2001</td>\n",
       "      <td>Central Jail</td>\n",
       "      <td>3372</td>\n",
       "      <td>3</td>\n",
       "      <td>3375</td>\n",
       "      <td>2718</td>\n",
       "      <td>114</td>\n",
       "      <td>2832</td>\n",
       "      <td>4</td>\n",
       "      <td>0</td>\n",
       "      <td>4</td>\n",
       "      <td>22</td>\n",
       "      <td>0</td>\n",
       "      <td>22</td>\n",
       "      <td>6116</td>\n",
       "      <td>117</td>\n",
       "      <td>6233</td>\n",
       "    </tr>\n",
       "    <tr>\n",
       "      <th>1</th>\n",
       "      <td>Andhra Pradesh</td>\n",
       "      <td>2001</td>\n",
       "      <td>District Jail</td>\n",
       "      <td>294</td>\n",
       "      <td>1</td>\n",
       "      <td>295</td>\n",
       "      <td>2379</td>\n",
       "      <td>136</td>\n",
       "      <td>2515</td>\n",
       "      <td>0</td>\n",
       "      <td>0</td>\n",
       "      <td>0</td>\n",
       "      <td>0</td>\n",
       "      <td>0</td>\n",
       "      <td>0</td>\n",
       "      <td>2673</td>\n",
       "      <td>137</td>\n",
       "      <td>2810</td>\n",
       "    </tr>\n",
       "    <tr>\n",
       "      <th>2</th>\n",
       "      <td>Andhra Pradesh</td>\n",
       "      <td>2001</td>\n",
       "      <td>Sub_Jail</td>\n",
       "      <td>188</td>\n",
       "      <td>10</td>\n",
       "      <td>198</td>\n",
       "      <td>3263</td>\n",
       "      <td>151</td>\n",
       "      <td>3414</td>\n",
       "      <td>0</td>\n",
       "      <td>0</td>\n",
       "      <td>0</td>\n",
       "      <td>0</td>\n",
       "      <td>0</td>\n",
       "      <td>0</td>\n",
       "      <td>3451</td>\n",
       "      <td>161</td>\n",
       "      <td>3612</td>\n",
       "    </tr>\n",
       "    <tr>\n",
       "      <th>3</th>\n",
       "      <td>Andhra Pradesh</td>\n",
       "      <td>2001</td>\n",
       "      <td>Women Jail</td>\n",
       "      <td>0</td>\n",
       "      <td>88</td>\n",
       "      <td>88</td>\n",
       "      <td>0</td>\n",
       "      <td>81</td>\n",
       "      <td>81</td>\n",
       "      <td>0</td>\n",
       "      <td>1</td>\n",
       "      <td>1</td>\n",
       "      <td>0</td>\n",
       "      <td>0</td>\n",
       "      <td>0</td>\n",
       "      <td>0</td>\n",
       "      <td>170</td>\n",
       "      <td>170</td>\n",
       "    </tr>\n",
       "    <tr>\n",
       "      <th>4</th>\n",
       "      <td>Andhra Pradesh</td>\n",
       "      <td>2001</td>\n",
       "      <td>Borstal School</td>\n",
       "      <td>17</td>\n",
       "      <td>0</td>\n",
       "      <td>17</td>\n",
       "      <td>0</td>\n",
       "      <td>0</td>\n",
       "      <td>0</td>\n",
       "      <td>0</td>\n",
       "      <td>0</td>\n",
       "      <td>0</td>\n",
       "      <td>0</td>\n",
       "      <td>0</td>\n",
       "      <td>0</td>\n",
       "      <td>17</td>\n",
       "      <td>0</td>\n",
       "      <td>17</td>\n",
       "    </tr>\n",
       "    <tr>\n",
       "      <th>5</th>\n",
       "      <td>Andhra Pradesh</td>\n",
       "      <td>2001</td>\n",
       "      <td>Open Jail</td>\n",
       "      <td>248</td>\n",
       "      <td>0</td>\n",
       "      <td>248</td>\n",
       "      <td>0</td>\n",
       "      <td>0</td>\n",
       "      <td>0</td>\n",
       "      <td>0</td>\n",
       "      <td>0</td>\n",
       "      <td>0</td>\n",
       "      <td>0</td>\n",
       "      <td>0</td>\n",
       "      <td>0</td>\n",
       "      <td>248</td>\n",
       "      <td>0</td>\n",
       "      <td>248</td>\n",
       "    </tr>\n",
       "    <tr>\n",
       "      <th>6</th>\n",
       "      <td>Andhra Pradesh</td>\n",
       "      <td>2001</td>\n",
       "      <td>Special Jail</td>\n",
       "      <td>0</td>\n",
       "      <td>0</td>\n",
       "      <td>0</td>\n",
       "      <td>0</td>\n",
       "      <td>0</td>\n",
       "      <td>0</td>\n",
       "      <td>0</td>\n",
       "      <td>0</td>\n",
       "      <td>0</td>\n",
       "      <td>0</td>\n",
       "      <td>0</td>\n",
       "      <td>0</td>\n",
       "      <td>0</td>\n",
       "      <td>0</td>\n",
       "      <td>0</td>\n",
       "    </tr>\n",
       "    <tr>\n",
       "      <th>7</th>\n",
       "      <td>Andhra Pradesh</td>\n",
       "      <td>2001</td>\n",
       "      <td>Others</td>\n",
       "      <td>0</td>\n",
       "      <td>0</td>\n",
       "      <td>0</td>\n",
       "      <td>0</td>\n",
       "      <td>0</td>\n",
       "      <td>0</td>\n",
       "      <td>0</td>\n",
       "      <td>0</td>\n",
       "      <td>0</td>\n",
       "      <td>0</td>\n",
       "      <td>0</td>\n",
       "      <td>0</td>\n",
       "      <td>0</td>\n",
       "      <td>0</td>\n",
       "      <td>0</td>\n",
       "    </tr>\n",
       "    <tr>\n",
       "      <th>8</th>\n",
       "      <td>Andhra Pradesh</td>\n",
       "      <td>2001</td>\n",
       "      <td>Total</td>\n",
       "      <td>4119</td>\n",
       "      <td>102</td>\n",
       "      <td>4221</td>\n",
       "      <td>8360</td>\n",
       "      <td>482</td>\n",
       "      <td>8842</td>\n",
       "      <td>4</td>\n",
       "      <td>1</td>\n",
       "      <td>5</td>\n",
       "      <td>22</td>\n",
       "      <td>0</td>\n",
       "      <td>22</td>\n",
       "      <td>12505</td>\n",
       "      <td>585</td>\n",
       "      <td>13090</td>\n",
       "    </tr>\n",
       "    <tr>\n",
       "      <th>9</th>\n",
       "      <td>Andhra Pradesh</td>\n",
       "      <td>2002</td>\n",
       "      <td>Central Jail</td>\n",
       "      <td>4111</td>\n",
       "      <td>4</td>\n",
       "      <td>4115</td>\n",
       "      <td>3173</td>\n",
       "      <td>157</td>\n",
       "      <td>3330</td>\n",
       "      <td>2</td>\n",
       "      <td>0</td>\n",
       "      <td>2</td>\n",
       "      <td>0</td>\n",
       "      <td>0</td>\n",
       "      <td>0</td>\n",
       "      <td>7286</td>\n",
       "      <td>161</td>\n",
       "      <td>7447</td>\n",
       "    </tr>\n",
       "  </tbody>\n",
       "</table>\n",
       "</div>"
      ],
      "text/plain": [
       "    State_UT_name  Year       Jail_Type  ...  Total_Male  Total_Female  Grand_Total\n",
       "0  Andhra Pradesh  2001    Central Jail  ...        6116           117         6233\n",
       "1  Andhra Pradesh  2001   District Jail  ...        2673           137         2810\n",
       "2  Andhra Pradesh  2001        Sub_Jail  ...        3451           161         3612\n",
       "3  Andhra Pradesh  2001      Women Jail  ...           0           170          170\n",
       "4  Andhra Pradesh  2001  Borstal School  ...          17             0           17\n",
       "5  Andhra Pradesh  2001       Open Jail  ...         248             0          248\n",
       "6  Andhra Pradesh  2001    Special Jail  ...           0             0            0\n",
       "7  Andhra Pradesh  2001          Others  ...           0             0            0\n",
       "8  Andhra Pradesh  2001           Total  ...       12505           585        13090\n",
       "9  Andhra Pradesh  2002    Central Jail  ...        7286           161         7447\n",
       "\n",
       "[10 rows x 18 columns]"
      ]
     },
     "execution_count": 30,
     "metadata": {
      "tags": []
     },
     "output_type": "execute_result"
    }
   ],
   "source": [
    "df.head(10)"
   ]
  },
  {
   "cell_type": "markdown",
   "metadata": {
    "id": "A5ow9YilNJpK"
   },
   "source": [
    "### Ejercicio 4\n",
    "¿Cuántas filas o registros y columnas tiene este dataset?\n",
    "\n",
    "Imprima respuesta con un texto descriptivo\n",
    "#### Respuesta"
   ]
  },
  {
   "cell_type": "code",
   "execution_count": null,
   "metadata": {
    "colab": {
     "base_uri": "https://localhost:8080/"
    },
    "id": "-G4QWOQZMzFN",
    "outputId": "d6e7be9e-019d-4f2a-b912-6e9d3f795ad0"
   },
   "outputs": [
    {
     "name": "stdout",
     "output_type": "stream",
     "text": [
      "El número de filas o registros es: 4023\n",
      "El número de columnas es: 18\n"
     ]
    }
   ],
   "source": [
    "print('El número de filas o registros es:', df.shape[0])\n",
    "print('El número de columnas es:', df.shape[1])"
   ]
  },
  {
   "cell_type": "markdown",
   "metadata": {
    "id": "N41iDJ7bRMDP"
   },
   "source": [
    "###Ejercicio 5\n",
    "Muestre cada columna del dataframe con su respectiva tipología de dato y la cantidad de valores no nulos\n",
    "####Respuesta\n"
   ]
  },
  {
   "cell_type": "code",
   "execution_count": null,
   "metadata": {
    "colab": {
     "base_uri": "https://localhost:8080/"
    },
    "id": "0CxCc0JaO3Wu",
    "outputId": "3ac2e371-9522-44c2-bd45-d2acf843372b"
   },
   "outputs": [
    {
     "name": "stdout",
     "output_type": "stream",
     "text": [
      "<class 'pandas.core.frame.DataFrame'>\n",
      "RangeIndex: 4023 entries, 0 to 4022\n",
      "Data columns (total 18 columns):\n",
      " #   Column              Non-Null Count  Dtype \n",
      "---  ------              --------------  ----- \n",
      " 0   State_UT_name       4023 non-null   object\n",
      " 1   Year                4023 non-null   int64 \n",
      " 2   Jail_Type           4023 non-null   object\n",
      " 3   Male Convicts       4023 non-null   int64 \n",
      " 4   Female_Convicts     4023 non-null   int64 \n",
      " 5   Total_Convicts      4023 non-null   int64 \n",
      " 6   Male_Under_trial    4023 non-null   int64 \n",
      " 7   Female_Under_trial  4023 non-null   int64 \n",
      " 8   Total_Under_trial   4023 non-null   int64 \n",
      " 9   Male_Detenues       4023 non-null   int64 \n",
      " 10  Female_Detenues     4023 non-null   int64 \n",
      " 11  Total_Detenues      4023 non-null   int64 \n",
      " 12  Male_Others         4023 non-null   int64 \n",
      " 13  Female_Others       4023 non-null   int64 \n",
      " 14  Total_Others        4023 non-null   int64 \n",
      " 15  Total_Male          4023 non-null   int64 \n",
      " 16  Total_Female        4023 non-null   int64 \n",
      " 17  Grand_Total         4023 non-null   int64 \n",
      "dtypes: int64(16), object(2)\n",
      "memory usage: 565.9+ KB\n"
     ]
    }
   ],
   "source": [
    "df.info()"
   ]
  },
  {
   "cell_type": "markdown",
   "metadata": {
    "id": "_DTtU8Vm9VCs"
   },
   "source": [
    "Dado que el dataset contiene 4023 filas y 18 columnas, si analizamos la información de la tabla anterior, es posible ver que el número de valores no nulos en todas las columnas del dataset es igual a la cantidad de filas del dataset, por ende, hay información 100% útil y el dataset es consistente."
   ]
  },
  {
   "cell_type": "markdown",
   "metadata": {
    "id": "Xe6DFcrJOYDd"
   },
   "source": [
    "### Ejercicio 6\n",
    "Determine una conclusión con respecto al total de datos\n",
    "### Respuesta"
   ]
  },
  {
   "cell_type": "code",
   "execution_count": null,
   "metadata": {
    "colab": {
     "base_uri": "https://localhost:8080/",
     "height": 334
    },
    "id": "YKuH8dwSOdCz",
    "outputId": "22920bea-18ac-4e0f-cd68-81beb39126cf"
   },
   "outputs": [
    {
     "data": {
      "text/html": [
       "<div>\n",
       "<style scoped>\n",
       "    .dataframe tbody tr th:only-of-type {\n",
       "        vertical-align: middle;\n",
       "    }\n",
       "\n",
       "    .dataframe tbody tr th {\n",
       "        vertical-align: top;\n",
       "    }\n",
       "\n",
       "    .dataframe thead th {\n",
       "        text-align: right;\n",
       "    }\n",
       "</style>\n",
       "<table border=\"1\" class=\"dataframe\">\n",
       "  <thead>\n",
       "    <tr style=\"text-align: right;\">\n",
       "      <th></th>\n",
       "      <th>Year</th>\n",
       "      <th>Male Convicts</th>\n",
       "      <th>Female_Convicts</th>\n",
       "      <th>Total_Convicts</th>\n",
       "      <th>Male_Under_trial</th>\n",
       "      <th>Female_Under_trial</th>\n",
       "      <th>Total_Under_trial</th>\n",
       "      <th>Male_Detenues</th>\n",
       "      <th>Female_Detenues</th>\n",
       "      <th>Total_Detenues</th>\n",
       "      <th>Male_Others</th>\n",
       "      <th>Female_Others</th>\n",
       "      <th>Total_Others</th>\n",
       "      <th>Total_Male</th>\n",
       "      <th>Total_Female</th>\n",
       "      <th>Grand_Total</th>\n",
       "    </tr>\n",
       "  </thead>\n",
       "  <tbody>\n",
       "    <tr>\n",
       "      <th>count</th>\n",
       "      <td>4023.000000</td>\n",
       "      <td>4023.000000</td>\n",
       "      <td>4023.000000</td>\n",
       "      <td>4023.000000</td>\n",
       "      <td>4023.000000</td>\n",
       "      <td>4023.000000</td>\n",
       "      <td>4023.000000</td>\n",
       "      <td>4023.00000</td>\n",
       "      <td>4023.000000</td>\n",
       "      <td>4023.000000</td>\n",
       "      <td>4023.000000</td>\n",
       "      <td>4023.000000</td>\n",
       "      <td>4023.000000</td>\n",
       "      <td>4023.000000</td>\n",
       "      <td>4023.000000</td>\n",
       "      <td>4023.000000</td>\n",
       "    </tr>\n",
       "    <tr>\n",
       "      <th>mean</th>\n",
       "      <td>2007.044743</td>\n",
       "      <td>696.222222</td>\n",
       "      <td>25.858315</td>\n",
       "      <td>722.080537</td>\n",
       "      <td>1494.739249</td>\n",
       "      <td>63.540641</td>\n",
       "      <td>1558.279891</td>\n",
       "      <td>19.60875</td>\n",
       "      <td>0.955506</td>\n",
       "      <td>20.564256</td>\n",
       "      <td>32.651255</td>\n",
       "      <td>4.336068</td>\n",
       "      <td>36.987323</td>\n",
       "      <td>2243.221477</td>\n",
       "      <td>94.690529</td>\n",
       "      <td>2337.912006</td>\n",
       "    </tr>\n",
       "    <tr>\n",
       "      <th>std</th>\n",
       "      <td>3.747830</td>\n",
       "      <td>2089.082276</td>\n",
       "      <td>77.309287</td>\n",
       "      <td>2154.529877</td>\n",
       "      <td>4912.001653</td>\n",
       "      <td>189.353263</td>\n",
       "      <td>5088.164558</td>\n",
       "      <td>119.52509</td>\n",
       "      <td>8.536624</td>\n",
       "      <td>123.714471</td>\n",
       "      <td>458.132246</td>\n",
       "      <td>63.089692</td>\n",
       "      <td>511.008159</td>\n",
       "      <td>6732.986570</td>\n",
       "      <td>266.752259</td>\n",
       "      <td>6975.062947</td>\n",
       "    </tr>\n",
       "    <tr>\n",
       "      <th>min</th>\n",
       "      <td>2001.000000</td>\n",
       "      <td>0.000000</td>\n",
       "      <td>0.000000</td>\n",
       "      <td>0.000000</td>\n",
       "      <td>0.000000</td>\n",
       "      <td>0.000000</td>\n",
       "      <td>0.000000</td>\n",
       "      <td>0.00000</td>\n",
       "      <td>0.000000</td>\n",
       "      <td>0.000000</td>\n",
       "      <td>0.000000</td>\n",
       "      <td>0.000000</td>\n",
       "      <td>0.000000</td>\n",
       "      <td>0.000000</td>\n",
       "      <td>0.000000</td>\n",
       "      <td>0.000000</td>\n",
       "    </tr>\n",
       "    <tr>\n",
       "      <th>25%</th>\n",
       "      <td>2004.000000</td>\n",
       "      <td>0.000000</td>\n",
       "      <td>0.000000</td>\n",
       "      <td>0.000000</td>\n",
       "      <td>0.000000</td>\n",
       "      <td>0.000000</td>\n",
       "      <td>0.000000</td>\n",
       "      <td>0.00000</td>\n",
       "      <td>0.000000</td>\n",
       "      <td>0.000000</td>\n",
       "      <td>0.000000</td>\n",
       "      <td>0.000000</td>\n",
       "      <td>0.000000</td>\n",
       "      <td>0.000000</td>\n",
       "      <td>0.000000</td>\n",
       "      <td>0.000000</td>\n",
       "    </tr>\n",
       "    <tr>\n",
       "      <th>50%</th>\n",
       "      <td>2007.000000</td>\n",
       "      <td>0.000000</td>\n",
       "      <td>0.000000</td>\n",
       "      <td>0.000000</td>\n",
       "      <td>0.000000</td>\n",
       "      <td>0.000000</td>\n",
       "      <td>0.000000</td>\n",
       "      <td>0.00000</td>\n",
       "      <td>0.000000</td>\n",
       "      <td>0.000000</td>\n",
       "      <td>0.000000</td>\n",
       "      <td>0.000000</td>\n",
       "      <td>0.000000</td>\n",
       "      <td>0.000000</td>\n",
       "      <td>0.000000</td>\n",
       "      <td>21.000000</td>\n",
       "    </tr>\n",
       "    <tr>\n",
       "      <th>75%</th>\n",
       "      <td>2010.000000</td>\n",
       "      <td>126.500000</td>\n",
       "      <td>4.000000</td>\n",
       "      <td>150.000000</td>\n",
       "      <td>497.000000</td>\n",
       "      <td>25.000000</td>\n",
       "      <td>513.000000</td>\n",
       "      <td>0.00000</td>\n",
       "      <td>0.000000</td>\n",
       "      <td>0.000000</td>\n",
       "      <td>0.000000</td>\n",
       "      <td>0.000000</td>\n",
       "      <td>0.000000</td>\n",
       "      <td>701.500000</td>\n",
       "      <td>37.500000</td>\n",
       "      <td>752.500000</td>\n",
       "    </tr>\n",
       "    <tr>\n",
       "      <th>max</th>\n",
       "      <td>2013.000000</td>\n",
       "      <td>27146.000000</td>\n",
       "      <td>963.000000</td>\n",
       "      <td>28051.000000</td>\n",
       "      <td>57017.000000</td>\n",
       "      <td>2349.000000</td>\n",
       "      <td>59058.000000</td>\n",
       "      <td>2244.00000</td>\n",
       "      <td>219.000000</td>\n",
       "      <td>2297.000000</td>\n",
       "      <td>11364.000000</td>\n",
       "      <td>1551.000000</td>\n",
       "      <td>12805.000000</td>\n",
       "      <td>81046.000000</td>\n",
       "      <td>3312.000000</td>\n",
       "      <td>83805.000000</td>\n",
       "    </tr>\n",
       "  </tbody>\n",
       "</table>\n",
       "</div>"
      ],
      "text/plain": [
       "              Year  Male Convicts  ...  Total_Female   Grand_Total\n",
       "count  4023.000000    4023.000000  ...   4023.000000   4023.000000\n",
       "mean   2007.044743     696.222222  ...     94.690529   2337.912006\n",
       "std       3.747830    2089.082276  ...    266.752259   6975.062947\n",
       "min    2001.000000       0.000000  ...      0.000000      0.000000\n",
       "25%    2004.000000       0.000000  ...      0.000000      0.000000\n",
       "50%    2007.000000       0.000000  ...      0.000000     21.000000\n",
       "75%    2010.000000     126.500000  ...     37.500000    752.500000\n",
       "max    2013.000000   27146.000000  ...   3312.000000  83805.000000\n",
       "\n",
       "[8 rows x 16 columns]"
      ]
     },
     "execution_count": 34,
     "metadata": {
      "tags": []
     },
     "output_type": "execute_result"
    }
   ],
   "source": [
    "df.describe()"
   ]
  },
  {
   "cell_type": "markdown",
   "metadata": {
    "id": "WTNcoiHQtqpn"
   },
   "source": [
    "En la tabla anterior, si deferenciamos los géneros con respecto a la categoría (Convictos, bajo juicio, detenidos, bajo otra razón), es posible concluir que los hombres superan a las mujeres en cantidad de casos. Esta conclusión fue dada observando el promedio (mean) de la tabla anterior\n",
    "\n"
   ]
  },
  {
   "cell_type": "markdown",
   "metadata": {
    "id": "naqGbgF22xPG"
   },
   "source": [
    "### Ejercicio 7\n",
    "Grafique el recuento de personas por género, dependiendo del caso por el que estén en prisión.\n",
    "#### Respuesta"
   ]
  },
  {
   "cell_type": "code",
   "execution_count": null,
   "metadata": {
    "colab": {
     "base_uri": "https://localhost:8080/",
     "height": 513
    },
    "id": "3dNiF3Wp20s6",
    "outputId": "5660a95c-a464-4370-a2ea-c531604fc5df"
   },
   "outputs": [
    {
     "data": {
      "image/png": "[encoded data removed]",
      "text/plain": [
       "<Figure size 810x540 with 1 Axes>"
      ]
     },
     "metadata": {
      "needs_background": "light",
      "tags": []
     },
     "output_type": "display_data"
    }
   ],
   "source": [
    "labels = ['Convictos', 'Bajo juicio', 'Detenidos', 'Otras razones']\n",
    "male = [df['Male Convicts'].sum(),\n",
    "       df['Male_Under_trial'].sum(),\n",
    "       df['Male_Detenues'].sum(),\n",
    "       df['Male_Others'].sum()]\n",
    "\n",
    "female = [df['Female_Convicts'].sum(),\n",
    "         df['Female_Under_trial'].sum(),\n",
    "         df['Female_Detenues'].sum(), \n",
    "         df['Female_Others'].sum()]\n",
    "width = 0.35\n",
    "\n",
    "fig, ax = plt.subplots(dpi = 135)\n",
    "\n",
    "ax.bar(labels, male, width, label='Male')\n",
    "ax.bar(labels, female, width, bottom=male, label='Female')\n",
    "\n",
    "ax.set_ylabel('Suma')\n",
    "ax.set_title('Tipo de caso: hombres vs mujeres')\n",
    "ax.legend()\n",
    "\n",
    "plt.show()"
   ]
  },
  {
   "cell_type": "markdown",
   "metadata": {
    "id": "elLgU6Ci82pU"
   },
   "source": [
    "Por medio del anterior gráfico se apoya la afirmación del ejercicio anterior, indicando que la mayoría de ocupantes en las prisiones de India son hombres. \n",
    "\n",
    "Por otro lado, se puede mostrar la diferencia entre los casos de *Bajo juicio* y *Convictos* frente a *Detenidos* y *Otras razones*, teniendo los primeros una cantidad superior. Cabe resaltar que la mayoría de personas están bajo juicio, lo que puede dar posibilidad a que la cantidad de personas en prisión reduzcan dependiendo del resultado del juicio.\n",
    "\n",
    "**NOTA**: Tener en cuenta que los valores del eje Y están a una escala de *1e6 = $10^6$*."
   ]
  },
  {
   "cell_type": "markdown",
   "metadata": {
    "id": "p3itJirjtFuj"
   },
   "source": [
    "###Ejercicio 8\n",
    "Calcule la cantidad de censos realizados por estado\n",
    "####Respuesta"
   ]
  },
  {
   "cell_type": "code",
   "execution_count": null,
   "metadata": {
    "colab": {
     "base_uri": "https://localhost:8080/",
     "height": 1000
    },
    "id": "SR_4NLmkx0uh",
    "outputId": "1a9cb13c-cb8f-42ac-bf4a-356621dd8750"
   },
   "outputs": [
    {
     "data": {
      "text/html": [
       "<div>\n",
       "<style scoped>\n",
       "    .dataframe tbody tr th:only-of-type {\n",
       "        vertical-align: middle;\n",
       "    }\n",
       "\n",
       "    .dataframe tbody tr th {\n",
       "        vertical-align: top;\n",
       "    }\n",
       "\n",
       "    .dataframe thead th {\n",
       "        text-align: right;\n",
       "    }\n",
       "</style>\n",
       "<table border=\"1\" class=\"dataframe\">\n",
       "  <thead>\n",
       "    <tr style=\"text-align: right;\">\n",
       "      <th></th>\n",
       "      <th>State_UT_name</th>\n",
       "      <th>Jail_Type</th>\n",
       "    </tr>\n",
       "  </thead>\n",
       "  <tbody>\n",
       "    <tr>\n",
       "      <th>0</th>\n",
       "      <td>A &amp; N Islands</td>\n",
       "      <td>117</td>\n",
       "    </tr>\n",
       "    <tr>\n",
       "      <th>1</th>\n",
       "      <td>Andhra Pradesh</td>\n",
       "      <td>117</td>\n",
       "    </tr>\n",
       "    <tr>\n",
       "      <th>2</th>\n",
       "      <td>Arunachal Pradesh</td>\n",
       "      <td>45</td>\n",
       "    </tr>\n",
       "    <tr>\n",
       "      <th>3</th>\n",
       "      <td>Assam</td>\n",
       "      <td>117</td>\n",
       "    </tr>\n",
       "    <tr>\n",
       "      <th>4</th>\n",
       "      <td>Bihar</td>\n",
       "      <td>117</td>\n",
       "    </tr>\n",
       "    <tr>\n",
       "      <th>5</th>\n",
       "      <td>Chandigarh</td>\n",
       "      <td>117</td>\n",
       "    </tr>\n",
       "    <tr>\n",
       "      <th>6</th>\n",
       "      <td>Chhatisgarh</td>\n",
       "      <td>9</td>\n",
       "    </tr>\n",
       "    <tr>\n",
       "      <th>7</th>\n",
       "      <td>Chhattisgarh</td>\n",
       "      <td>108</td>\n",
       "    </tr>\n",
       "    <tr>\n",
       "      <th>8</th>\n",
       "      <td>D &amp; N Haveli</td>\n",
       "      <td>117</td>\n",
       "    </tr>\n",
       "    <tr>\n",
       "      <th>9</th>\n",
       "      <td>Daman &amp; Diu</td>\n",
       "      <td>117</td>\n",
       "    </tr>\n",
       "    <tr>\n",
       "      <th>10</th>\n",
       "      <td>Delhi</td>\n",
       "      <td>117</td>\n",
       "    </tr>\n",
       "    <tr>\n",
       "      <th>11</th>\n",
       "      <td>Goa</td>\n",
       "      <td>117</td>\n",
       "    </tr>\n",
       "    <tr>\n",
       "      <th>12</th>\n",
       "      <td>Gujarat</td>\n",
       "      <td>117</td>\n",
       "    </tr>\n",
       "    <tr>\n",
       "      <th>13</th>\n",
       "      <td>Haryana</td>\n",
       "      <td>117</td>\n",
       "    </tr>\n",
       "    <tr>\n",
       "      <th>14</th>\n",
       "      <td>Himachal Pradesh</td>\n",
       "      <td>117</td>\n",
       "    </tr>\n",
       "    <tr>\n",
       "      <th>15</th>\n",
       "      <td>Jammu &amp; Kashmir</td>\n",
       "      <td>117</td>\n",
       "    </tr>\n",
       "    <tr>\n",
       "      <th>16</th>\n",
       "      <td>Jharkhand</td>\n",
       "      <td>117</td>\n",
       "    </tr>\n",
       "    <tr>\n",
       "      <th>17</th>\n",
       "      <td>Karnataka</td>\n",
       "      <td>117</td>\n",
       "    </tr>\n",
       "    <tr>\n",
       "      <th>18</th>\n",
       "      <td>Kerala</td>\n",
       "      <td>117</td>\n",
       "    </tr>\n",
       "    <tr>\n",
       "      <th>19</th>\n",
       "      <td>Lakshadweep</td>\n",
       "      <td>117</td>\n",
       "    </tr>\n",
       "    <tr>\n",
       "      <th>20</th>\n",
       "      <td>Madhya Pradesh</td>\n",
       "      <td>117</td>\n",
       "    </tr>\n",
       "    <tr>\n",
       "      <th>21</th>\n",
       "      <td>Maharashtra</td>\n",
       "      <td>117</td>\n",
       "    </tr>\n",
       "    <tr>\n",
       "      <th>22</th>\n",
       "      <td>Manipur</td>\n",
       "      <td>117</td>\n",
       "    </tr>\n",
       "    <tr>\n",
       "      <th>23</th>\n",
       "      <td>Meghalaya</td>\n",
       "      <td>117</td>\n",
       "    </tr>\n",
       "    <tr>\n",
       "      <th>24</th>\n",
       "      <td>Mizoram</td>\n",
       "      <td>117</td>\n",
       "    </tr>\n",
       "    <tr>\n",
       "      <th>25</th>\n",
       "      <td>Nagaland</td>\n",
       "      <td>117</td>\n",
       "    </tr>\n",
       "    <tr>\n",
       "      <th>26</th>\n",
       "      <td>Orissa</td>\n",
       "      <td>117</td>\n",
       "    </tr>\n",
       "    <tr>\n",
       "      <th>27</th>\n",
       "      <td>Pondicherry</td>\n",
       "      <td>117</td>\n",
       "    </tr>\n",
       "    <tr>\n",
       "      <th>28</th>\n",
       "      <td>Punjab</td>\n",
       "      <td>117</td>\n",
       "    </tr>\n",
       "    <tr>\n",
       "      <th>29</th>\n",
       "      <td>Rajasthan</td>\n",
       "      <td>117</td>\n",
       "    </tr>\n",
       "    <tr>\n",
       "      <th>30</th>\n",
       "      <td>Sikkim</td>\n",
       "      <td>117</td>\n",
       "    </tr>\n",
       "    <tr>\n",
       "      <th>31</th>\n",
       "      <td>Tamilnadu</td>\n",
       "      <td>117</td>\n",
       "    </tr>\n",
       "    <tr>\n",
       "      <th>32</th>\n",
       "      <td>Tripura</td>\n",
       "      <td>117</td>\n",
       "    </tr>\n",
       "    <tr>\n",
       "      <th>33</th>\n",
       "      <td>Uttar Pradesh</td>\n",
       "      <td>117</td>\n",
       "    </tr>\n",
       "    <tr>\n",
       "      <th>34</th>\n",
       "      <td>Uttaranchal</td>\n",
       "      <td>117</td>\n",
       "    </tr>\n",
       "    <tr>\n",
       "      <th>35</th>\n",
       "      <td>West Bengal</td>\n",
       "      <td>117</td>\n",
       "    </tr>\n",
       "  </tbody>\n",
       "</table>\n",
       "</div>"
      ],
      "text/plain": [
       "        State_UT_name  Jail_Type\n",
       "0       A & N Islands        117\n",
       "1      Andhra Pradesh        117\n",
       "2   Arunachal Pradesh         45\n",
       "3               Assam        117\n",
       "4               Bihar        117\n",
       "5          Chandigarh        117\n",
       "6         Chhatisgarh          9\n",
       "7        Chhattisgarh        108\n",
       "8        D & N Haveli        117\n",
       "9         Daman & Diu        117\n",
       "10              Delhi        117\n",
       "11                Goa        117\n",
       "12            Gujarat        117\n",
       "13            Haryana        117\n",
       "14   Himachal Pradesh        117\n",
       "15    Jammu & Kashmir        117\n",
       "16          Jharkhand        117\n",
       "17          Karnataka        117\n",
       "18             Kerala        117\n",
       "19        Lakshadweep        117\n",
       "20     Madhya Pradesh        117\n",
       "21        Maharashtra        117\n",
       "22            Manipur        117\n",
       "23          Meghalaya        117\n",
       "24            Mizoram        117\n",
       "25           Nagaland        117\n",
       "26             Orissa        117\n",
       "27        Pondicherry        117\n",
       "28             Punjab        117\n",
       "29          Rajasthan        117\n",
       "30             Sikkim        117\n",
       "31          Tamilnadu        117\n",
       "32            Tripura        117\n",
       "33      Uttar Pradesh        117\n",
       "34        Uttaranchal        117\n",
       "35        West Bengal        117"
      ]
     },
     "execution_count": 37,
     "metadata": {
      "tags": []
     },
     "output_type": "execute_result"
    }
   ],
   "source": [
    "yearwisegame = df.groupby('State_UT_name')['Jail_Type'].count().reset_index()\n",
    "yearwisegame"
   ]
  },
  {
   "cell_type": "code",
   "execution_count": null,
   "metadata": {
    "colab": {
     "base_uri": "https://localhost:8080/",
     "height": 609
    },
    "id": "oBppTOu-YxnO",
    "outputId": "a707f8b8-e0e3-43f0-dc6c-4a2c7eb0f0e9"
   },
   "outputs": [
    {
     "data": {
      "image/png": "[encoded data removed]",
      "text/plain": [
       "<Figure size 1440x720 with 1 Axes>"
      ]
     },
     "metadata": {
      "needs_background": "light",
      "tags": []
     },
     "output_type": "display_data"
    }
   ],
   "source": [
    "plt.figure(figsize=(20,10))\n",
    "sns.barplot(\n",
    "    x=yearwisegame['State_UT_name'], \n",
    "    y=yearwisegame['Jail_Type']\n",
    ").set_title('Cantidad de censos de instituciones por estado', fontsize = 20)\n",
    "plt.xticks(rotation = 90, fontsize = 14)\n",
    "\n",
    "plt.ylabel('Cantidad de censos', fontsize = 20)\n",
    "plt.xlabel('Nombre de estado', fontsize = 20);"
   ]
  },
  {
   "cell_type": "markdown",
   "metadata": {
    "id": "CesIdWBH0nYy"
   },
   "source": [
    "Se puede observar en la gráfica que el número de instituciones por estado es 117 en 33 de los 36 estados encuestados. Lo que indica que este número es un parámetro preestablecido del censo y no representa necesariamente el número de instituciones de cada estado."
   ]
  },
  {
   "cell_type": "markdown",
   "metadata": {
    "id": "b-Zs1nitsdqu"
   },
   "source": [
    "###Ejercicio 9\n",
    "Determine una justificación para los estados que tienen menos instituciones censadas\n",
    "####Respuesta"
   ]
  },
  {
   "cell_type": "code",
   "execution_count": null,
   "metadata": {
    "colab": {
     "base_uri": "https://localhost:8080/",
     "height": 148
    },
    "id": "QSC0VY1vs8Pd",
    "outputId": "66522988-2e0c-4f6b-df13-59aa0a07e365"
   },
   "outputs": [
    {
     "data": {
      "text/html": [
       "<div>\n",
       "<style scoped>\n",
       "    .dataframe tbody tr th:only-of-type {\n",
       "        vertical-align: middle;\n",
       "    }\n",
       "\n",
       "    .dataframe tbody tr th {\n",
       "        vertical-align: top;\n",
       "    }\n",
       "\n",
       "    .dataframe thead th {\n",
       "        text-align: right;\n",
       "    }\n",
       "</style>\n",
       "<table border=\"1\" class=\"dataframe\">\n",
       "  <thead>\n",
       "    <tr style=\"text-align: right;\">\n",
       "      <th></th>\n",
       "      <th>Male Convicts</th>\n",
       "      <th>Female_Convicts</th>\n",
       "      <th>Total_Convicts</th>\n",
       "      <th>Male_Under_trial</th>\n",
       "      <th>Female_Under_trial</th>\n",
       "      <th>Total_Under_trial</th>\n",
       "      <th>Male_Detenues</th>\n",
       "      <th>Female_Detenues</th>\n",
       "      <th>Total_Detenues</th>\n",
       "      <th>Male_Others</th>\n",
       "      <th>Female_Others</th>\n",
       "      <th>Total_Others</th>\n",
       "      <th>Total_Male</th>\n",
       "      <th>Total_Female</th>\n",
       "      <th>Grand_Total</th>\n",
       "    </tr>\n",
       "    <tr>\n",
       "      <th>Year</th>\n",
       "      <th></th>\n",
       "      <th></th>\n",
       "      <th></th>\n",
       "      <th></th>\n",
       "      <th></th>\n",
       "      <th></th>\n",
       "      <th></th>\n",
       "      <th></th>\n",
       "      <th></th>\n",
       "      <th></th>\n",
       "      <th></th>\n",
       "      <th></th>\n",
       "      <th></th>\n",
       "      <th></th>\n",
       "      <th></th>\n",
       "    </tr>\n",
       "  </thead>\n",
       "  <tbody>\n",
       "    <tr>\n",
       "      <th>2013</th>\n",
       "      <td>12562</td>\n",
       "      <td>610</td>\n",
       "      <td>13172</td>\n",
       "      <td>17450</td>\n",
       "      <td>1032</td>\n",
       "      <td>18482</td>\n",
       "      <td>2</td>\n",
       "      <td>0</td>\n",
       "      <td>2</td>\n",
       "      <td>24</td>\n",
       "      <td>0</td>\n",
       "      <td>24</td>\n",
       "      <td>30038</td>\n",
       "      <td>1642</td>\n",
       "      <td>31680</td>\n",
       "    </tr>\n",
       "  </tbody>\n",
       "</table>\n",
       "</div>"
      ],
      "text/plain": [
       "      Male Convicts  Female_Convicts  ...  Total_Female  Grand_Total\n",
       "Year                                  ...                           \n",
       "2013          12562              610  ...          1642        31680\n",
       "\n",
       "[1 rows x 15 columns]"
      ]
     },
     "execution_count": 39,
     "metadata": {
      "tags": []
     },
     "output_type": "execute_result"
    }
   ],
   "source": [
    "df[df['State_UT_name'] =='Chhatisgarh'].groupby('Year').sum()"
   ]
  },
  {
   "cell_type": "markdown",
   "metadata": {
    "id": "-JEJ2qoPs-Z3"
   },
   "source": [
    "El código anterior, muestra los datos del estado donde menos censos se realizaron. Y nos damos cuenta que este estado solo tiene censos del 2013, lo cual puede significar que las carceles solo funcionaron en 2013, lo cual no tendría mucho sentido. Sin embargo vemos que existe otro estado con el nombre *Chhattisgarh* tiene los siguientes datos\n",
    "\n"
   ]
  },
  {
   "cell_type": "code",
   "execution_count": null,
   "metadata": {
    "colab": {
     "base_uri": "https://localhost:8080/",
     "height": 489
    },
    "id": "lQS7piL7wFNY",
    "outputId": "4770f773-4373-4b44-8647-1495510d86d8"
   },
   "outputs": [
    {
     "data": {
      "text/html": [
       "<div>\n",
       "<style scoped>\n",
       "    .dataframe tbody tr th:only-of-type {\n",
       "        vertical-align: middle;\n",
       "    }\n",
       "\n",
       "    .dataframe tbody tr th {\n",
       "        vertical-align: top;\n",
       "    }\n",
       "\n",
       "    .dataframe thead th {\n",
       "        text-align: right;\n",
       "    }\n",
       "</style>\n",
       "<table border=\"1\" class=\"dataframe\">\n",
       "  <thead>\n",
       "    <tr style=\"text-align: right;\">\n",
       "      <th></th>\n",
       "      <th>Male Convicts</th>\n",
       "      <th>Female_Convicts</th>\n",
       "      <th>Total_Convicts</th>\n",
       "      <th>Male_Under_trial</th>\n",
       "      <th>Female_Under_trial</th>\n",
       "      <th>Total_Under_trial</th>\n",
       "      <th>Male_Detenues</th>\n",
       "      <th>Female_Detenues</th>\n",
       "      <th>Total_Detenues</th>\n",
       "      <th>Male_Others</th>\n",
       "      <th>Female_Others</th>\n",
       "      <th>Total_Others</th>\n",
       "      <th>Total_Male</th>\n",
       "      <th>Total_Female</th>\n",
       "      <th>Grand_Total</th>\n",
       "    </tr>\n",
       "    <tr>\n",
       "      <th>Year</th>\n",
       "      <th></th>\n",
       "      <th></th>\n",
       "      <th></th>\n",
       "      <th></th>\n",
       "      <th></th>\n",
       "      <th></th>\n",
       "      <th></th>\n",
       "      <th></th>\n",
       "      <th></th>\n",
       "      <th></th>\n",
       "      <th></th>\n",
       "      <th></th>\n",
       "      <th></th>\n",
       "      <th></th>\n",
       "      <th></th>\n",
       "    </tr>\n",
       "  </thead>\n",
       "  <tbody>\n",
       "    <tr>\n",
       "      <th>2001</th>\n",
       "      <td>9096</td>\n",
       "      <td>370</td>\n",
       "      <td>9466</td>\n",
       "      <td>9434</td>\n",
       "      <td>408</td>\n",
       "      <td>9842</td>\n",
       "      <td>8</td>\n",
       "      <td>0</td>\n",
       "      <td>8</td>\n",
       "      <td>16</td>\n",
       "      <td>2</td>\n",
       "      <td>18</td>\n",
       "      <td>18554</td>\n",
       "      <td>780</td>\n",
       "      <td>19334</td>\n",
       "    </tr>\n",
       "    <tr>\n",
       "      <th>2002</th>\n",
       "      <td>9668</td>\n",
       "      <td>404</td>\n",
       "      <td>10072</td>\n",
       "      <td>9472</td>\n",
       "      <td>450</td>\n",
       "      <td>9922</td>\n",
       "      <td>2</td>\n",
       "      <td>0</td>\n",
       "      <td>2</td>\n",
       "      <td>16</td>\n",
       "      <td>0</td>\n",
       "      <td>16</td>\n",
       "      <td>19158</td>\n",
       "      <td>854</td>\n",
       "      <td>20012</td>\n",
       "    </tr>\n",
       "    <tr>\n",
       "      <th>2003</th>\n",
       "      <td>9042</td>\n",
       "      <td>398</td>\n",
       "      <td>9440</td>\n",
       "      <td>7936</td>\n",
       "      <td>320</td>\n",
       "      <td>8256</td>\n",
       "      <td>6</td>\n",
       "      <td>0</td>\n",
       "      <td>6</td>\n",
       "      <td>20</td>\n",
       "      <td>0</td>\n",
       "      <td>20</td>\n",
       "      <td>17004</td>\n",
       "      <td>718</td>\n",
       "      <td>17722</td>\n",
       "    </tr>\n",
       "    <tr>\n",
       "      <th>2004</th>\n",
       "      <td>8640</td>\n",
       "      <td>410</td>\n",
       "      <td>9050</td>\n",
       "      <td>8286</td>\n",
       "      <td>388</td>\n",
       "      <td>8674</td>\n",
       "      <td>0</td>\n",
       "      <td>0</td>\n",
       "      <td>0</td>\n",
       "      <td>22</td>\n",
       "      <td>0</td>\n",
       "      <td>22</td>\n",
       "      <td>16948</td>\n",
       "      <td>798</td>\n",
       "      <td>17746</td>\n",
       "    </tr>\n",
       "    <tr>\n",
       "      <th>2005</th>\n",
       "      <td>8216</td>\n",
       "      <td>382</td>\n",
       "      <td>8598</td>\n",
       "      <td>10554</td>\n",
       "      <td>464</td>\n",
       "      <td>11018</td>\n",
       "      <td>4</td>\n",
       "      <td>0</td>\n",
       "      <td>4</td>\n",
       "      <td>22</td>\n",
       "      <td>0</td>\n",
       "      <td>22</td>\n",
       "      <td>18796</td>\n",
       "      <td>846</td>\n",
       "      <td>19642</td>\n",
       "    </tr>\n",
       "    <tr>\n",
       "      <th>2006</th>\n",
       "      <td>8174</td>\n",
       "      <td>374</td>\n",
       "      <td>8548</td>\n",
       "      <td>11578</td>\n",
       "      <td>568</td>\n",
       "      <td>12146</td>\n",
       "      <td>2</td>\n",
       "      <td>0</td>\n",
       "      <td>2</td>\n",
       "      <td>22</td>\n",
       "      <td>0</td>\n",
       "      <td>22</td>\n",
       "      <td>19776</td>\n",
       "      <td>942</td>\n",
       "      <td>20718</td>\n",
       "    </tr>\n",
       "    <tr>\n",
       "      <th>2007</th>\n",
       "      <td>8634</td>\n",
       "      <td>416</td>\n",
       "      <td>9050</td>\n",
       "      <td>11292</td>\n",
       "      <td>506</td>\n",
       "      <td>11798</td>\n",
       "      <td>0</td>\n",
       "      <td>0</td>\n",
       "      <td>0</td>\n",
       "      <td>54</td>\n",
       "      <td>0</td>\n",
       "      <td>54</td>\n",
       "      <td>19980</td>\n",
       "      <td>922</td>\n",
       "      <td>20902</td>\n",
       "    </tr>\n",
       "    <tr>\n",
       "      <th>2008</th>\n",
       "      <td>9146</td>\n",
       "      <td>388</td>\n",
       "      <td>9534</td>\n",
       "      <td>12310</td>\n",
       "      <td>604</td>\n",
       "      <td>12914</td>\n",
       "      <td>0</td>\n",
       "      <td>0</td>\n",
       "      <td>0</td>\n",
       "      <td>12</td>\n",
       "      <td>0</td>\n",
       "      <td>12</td>\n",
       "      <td>21468</td>\n",
       "      <td>992</td>\n",
       "      <td>22460</td>\n",
       "    </tr>\n",
       "    <tr>\n",
       "      <th>2009</th>\n",
       "      <td>9280</td>\n",
       "      <td>434</td>\n",
       "      <td>9714</td>\n",
       "      <td>13820</td>\n",
       "      <td>718</td>\n",
       "      <td>14538</td>\n",
       "      <td>0</td>\n",
       "      <td>0</td>\n",
       "      <td>0</td>\n",
       "      <td>32</td>\n",
       "      <td>0</td>\n",
       "      <td>32</td>\n",
       "      <td>23132</td>\n",
       "      <td>1152</td>\n",
       "      <td>24284</td>\n",
       "    </tr>\n",
       "    <tr>\n",
       "      <th>2010</th>\n",
       "      <td>9974</td>\n",
       "      <td>418</td>\n",
       "      <td>10392</td>\n",
       "      <td>14648</td>\n",
       "      <td>750</td>\n",
       "      <td>15398</td>\n",
       "      <td>2</td>\n",
       "      <td>0</td>\n",
       "      <td>2</td>\n",
       "      <td>38</td>\n",
       "      <td>0</td>\n",
       "      <td>38</td>\n",
       "      <td>24662</td>\n",
       "      <td>1168</td>\n",
       "      <td>25830</td>\n",
       "    </tr>\n",
       "    <tr>\n",
       "      <th>2011</th>\n",
       "      <td>10776</td>\n",
       "      <td>484</td>\n",
       "      <td>11260</td>\n",
       "      <td>15766</td>\n",
       "      <td>784</td>\n",
       "      <td>16550</td>\n",
       "      <td>0</td>\n",
       "      <td>0</td>\n",
       "      <td>0</td>\n",
       "      <td>26</td>\n",
       "      <td>0</td>\n",
       "      <td>26</td>\n",
       "      <td>26568</td>\n",
       "      <td>1268</td>\n",
       "      <td>27836</td>\n",
       "    </tr>\n",
       "    <tr>\n",
       "      <th>2012</th>\n",
       "      <td>11440</td>\n",
       "      <td>488</td>\n",
       "      <td>11928</td>\n",
       "      <td>16688</td>\n",
       "      <td>910</td>\n",
       "      <td>17598</td>\n",
       "      <td>0</td>\n",
       "      <td>0</td>\n",
       "      <td>0</td>\n",
       "      <td>34</td>\n",
       "      <td>0</td>\n",
       "      <td>34</td>\n",
       "      <td>28162</td>\n",
       "      <td>1398</td>\n",
       "      <td>29560</td>\n",
       "    </tr>\n",
       "  </tbody>\n",
       "</table>\n",
       "</div>"
      ],
      "text/plain": [
       "      Male Convicts  Female_Convicts  ...  Total_Female  Grand_Total\n",
       "Year                                  ...                           \n",
       "2001           9096              370  ...           780        19334\n",
       "2002           9668              404  ...           854        20012\n",
       "2003           9042              398  ...           718        17722\n",
       "2004           8640              410  ...           798        17746\n",
       "2005           8216              382  ...           846        19642\n",
       "2006           8174              374  ...           942        20718\n",
       "2007           8634              416  ...           922        20902\n",
       "2008           9146              388  ...           992        22460\n",
       "2009           9280              434  ...          1152        24284\n",
       "2010           9974              418  ...          1168        25830\n",
       "2011          10776              484  ...          1268        27836\n",
       "2012          11440              488  ...          1398        29560\n",
       "\n",
       "[12 rows x 15 columns]"
      ]
     },
     "execution_count": 40,
     "metadata": {
      "tags": []
     },
     "output_type": "execute_result"
    }
   ],
   "source": [
    "df[df['State_UT_name'] =='Chhattisgarh'].groupby('Year').sum()"
   ]
  },
  {
   "cell_type": "markdown",
   "metadata": {
    "id": "AI8CJKlewZn2"
   },
   "source": [
    "En esta tabla vemos que el estado de *Chhattisgarh* tiene información de censos en los años 2001 a 2012. Dado esto podemos concluir que el dataset puede presentar un error de registro cuando se hacen los censos en 2013, porque en efecto la cantidad de censos para el estado *Chhattisgarh* + la cantidad de censos para el estado *Chhatisgarh* es $108+9=117$, la cual es la cantidad estándar de censos"
   ]
  },
  {
   "cell_type": "markdown",
   "metadata": {
    "id": "T6t6AlWmB8hg"
   },
   "source": [
    "### Ejercicio 10\n",
    "Muestre el comportamiento del número de personas en prisión, dependiendo el caso, a lo largo del tiempo.\n",
    "#### Respuesta"
   ]
  },
  {
   "cell_type": "code",
   "execution_count": null,
   "metadata": {
    "colab": {
     "base_uri": "https://localhost:8080/",
     "height": 572
    },
    "id": "Rl3VOx35CA_t",
    "outputId": "864ad8a1-9fc1-4fe5-dd07-78e83c3877a9"
   },
   "outputs": [
    {
     "name": "stderr",
     "output_type": "stream",
     "text": [
      "/usr/local/lib/python3.6/dist-packages/ipykernel_launcher.py:1: FutureWarning: Indexing with multiple keys (implicitly converted to a tuple of keys) will be deprecated, use a list instead.\n",
      "  \"\"\"Entry point for launching an IPython kernel.\n"
     ]
    },
    {
     "data": {
      "image/png": "[encoded data removed]",
      "text/plain": [
       "<Figure size 864x576 with 1 Axes>"
      ]
     },
     "metadata": {
      "needs_background": "light",
      "tags": []
     },
     "output_type": "display_data"
    }
   ],
   "source": [
    "casesbyyear = df.groupby('Year')['Total_Convicts', 'Total_Under_trial', 'Total_Detenues', 'Total_Others'].sum().reset_index()\n",
    "casesbyyear.plot.line(figsize=(12, 8), grid='on', x = 'Year', marker = 'o')\n",
    "plt.title('Tipos de personas en prisión por año')\n",
    "plt.xlabel('Año', fontsize = 15)\n",
    "plt.ylabel('Frecuencia', fontsize = 15);"
   ]
  },
  {
   "cell_type": "markdown",
   "metadata": {
    "id": "S0Gmr2O3EZcE"
   },
   "source": [
    "El número de personas detenidas y bajo otras razones en prisión se ha mantenido a lo largo de los años mostrados [2001-2013], mientras que el número de personas convictas presenta un notable aumento en el tiempo. En cambio, las personas bajo juicio tienen un comportamiento inestable, aunque la tendencia general es ascendente."
   ]
  },
  {
   "cell_type": "markdown",
   "metadata": {
    "id": "oOylwgzdPypv"
   },
   "source": [
    "### Ejercicio 11\n",
    "Dado el caso anterior surge la duda en cuanto al comportamiento del número de personas en prisión en India a lo largo de los años. Por ende, grafique el polígono de frecuencias.\n",
    "#### Respuesta"
   ]
  },
  {
   "cell_type": "code",
   "execution_count": null,
   "metadata": {
    "colab": {
     "base_uri": "https://localhost:8080/",
     "height": 518
    },
    "id": "n1ZifjaJQ9-D",
    "outputId": "cebbe40c-b912-4fcc-bd10-8624206cc045"
   },
   "outputs": [
    {
     "data": {
      "image/png": "[encoded data removed]",
      "text/plain": [
       "<Figure size 864x576 with 1 Axes>"
      ]
     },
     "metadata": {
      "needs_background": "light",
      "tags": []
     },
     "output_type": "display_data"
    }
   ],
   "source": [
    "totalbyyear = df.groupby('Year')['Grand_Total'].sum().reset_index()\n",
    "totalbyyear.plot.line(figsize=(12, 8), grid='on', x = 'Year', marker='o')\n",
    "plt.title('Casos totales por año')\n",
    "plt.xlabel('Año', fontsize = 15)\n",
    "plt.ylabel('Frecuencia', fontsize = 15);"
   ]
  },
  {
   "cell_type": "markdown",
   "metadata": {
    "id": "dWMkFdTeRxEL"
   },
   "source": [
    "La tendencia general es ascendente, aunque se puede notar que en el periodo del 2008 al 2010 se redujo el número de prisioneros en India. Lo cual complementa la inferencia del ejercicio anterior."
   ]
  },
  {
   "cell_type": "markdown",
   "metadata": {
    "id": "KiGCWIccPWQJ"
   },
   "source": [
    "###Ejercicio 12\n",
    "Calcule los mínimos y máximos prisioneros reportados en un año\n",
    "####Respuesta"
   ]
  },
  {
   "cell_type": "code",
   "execution_count": null,
   "metadata": {
    "colab": {
     "base_uri": "https://localhost:8080/"
    },
    "id": "qV2o8gGdRZ4x",
    "outputId": "a304c45a-4087-44d7-978c-7ecd34192ab5"
   },
   "outputs": [
    {
     "name": "stdout",
     "output_type": "stream",
     "text": [
      "Valor máximo de prisioneros en un año:  823984\n",
      "Valor mínimo de prisioneros en un año:  627270\n"
     ]
    }
   ],
   "source": [
    "r=df.groupby('Year')\n",
    "f=r['Grand_Total'].sum()\n",
    "valorMax=max(f)\n",
    "valorMin=min(f)\n",
    "print(\"Valor máximo de prisioneros en un año: \",valorMax)\n",
    "print(\"Valor mínimo de prisioneros en un año: \",valorMin)"
   ]
  },
  {
   "cell_type": "markdown",
   "metadata": {
    "id": "-hQeUxlHX7Sq"
   },
   "source": [
    "###Ejercicio 13\n",
    "Halle los años para los valores calculados anteriormente y concluya al respecto \n",
    "####Respuesta"
   ]
  },
  {
   "cell_type": "code",
   "execution_count": null,
   "metadata": {
    "colab": {
     "base_uri": "https://localhost:8080/"
    },
    "id": "1FTftmudYJT5",
    "outputId": "fdd2514e-c652-4883-94f4-92c507f1565f"
   },
   "outputs": [
    {
     "data": {
      "text/plain": [
       "Year             2001\n",
       "Grand_Total    627270\n",
       "Name: 0, dtype: int64"
      ]
     },
     "execution_count": 45,
     "metadata": {
      "tags": []
     },
     "output_type": "execute_result"
    }
   ],
   "source": [
    "f.sort_values().reset_index().iloc[0]"
   ]
  },
  {
   "cell_type": "markdown",
   "metadata": {
    "id": "eFiCHegamZJ9"
   },
   "source": [
    "El año en el que se presenta menor cantidad de prisioneros es 2001"
   ]
  },
  {
   "cell_type": "code",
   "execution_count": null,
   "metadata": {
    "colab": {
     "base_uri": "https://localhost:8080/"
    },
    "id": "DjhSUMOxd4oF",
    "outputId": "1c122013-0f1c-48be-884f-1f88fb3e9b61"
   },
   "outputs": [
    {
     "data": {
      "text/plain": [
       "Year             2013\n",
       "Grand_Total    823984\n",
       "Name: 12, dtype: int64"
      ]
     },
     "execution_count": 46,
     "metadata": {
      "tags": []
     },
     "output_type": "execute_result"
    }
   ],
   "source": [
    "f.sort_values().reset_index().iloc[-1]"
   ]
  },
  {
   "cell_type": "markdown",
   "metadata": {
    "id": "c9JOKyN4mkbT"
   },
   "source": [
    "El año en el que se presenta menor cantidad de prisioneros es 2013"
   ]
  },
  {
   "cell_type": "markdown",
   "metadata": {
    "id": "sdG89JctmqS0"
   },
   "source": [
    "En conclusión, se confirma el aumento de prisioneros en el intervalo de los años censados explicado en un punto anterior"
   ]
  },
  {
   "cell_type": "markdown",
   "metadata": {
    "id": "hdgpQBEcquEj"
   },
   "source": [
    "###Ejercicio 14\n",
    "Realice un diagrama circular donde se vea que porcentaje está ocupando cada tipo de institución\n",
    "####Respuesta"
   ]
  },
  {
   "cell_type": "code",
   "execution_count": null,
   "metadata": {
    "colab": {
     "base_uri": "https://localhost:8080/",
     "height": 597
    },
    "id": "bKtTUI_MrPYZ",
    "outputId": "bd66f25c-3852-4f2a-85c1-ddbdd294182e"
   },
   "outputs": [
    {
     "data": {
      "image/png": "[encoded data removed]",
      "text/plain": [
       "<Figure size 720x720 with 1 Axes>"
      ]
     },
     "metadata": {
      "tags": []
     },
     "output_type": "display_data"
    }
   ],
   "source": [
    "f = df[df['Jail_Type'] !='Total'].groupby('Jail_Type')['Grand_Total'].sum()\n",
    "\n",
    "total = f.sum()\n",
    "table = f.reset_index()\n",
    "legends = []\n",
    "for i in table.index:\n",
    "    legends.append(table['Jail_Type'][i] + \" (\" + \"{0:.2f}\".format(table['Grand_Total'][i]*100/total) + \"%)\")\n",
    "f.plot.pie(labeldistance=None, figsize=(10, 10))\n",
    "plt.legend(legends, loc=\"center left\", bbox_to_anchor=(1, 0, 0.5, 1), fontsize=20)\n",
    "plt.ylabel(\"\")\n",
    "plt.title('Número de prisioneros por tipo de institución', fontsize=20);"
   ]
  },
  {
   "cell_type": "markdown",
   "metadata": {
    "id": "YG5YFCutNImJ"
   },
   "source": [
    "Gracias a este gráfico es posible observar que la diferencia entre las instituciones \"Central jail\" y \"District jail\", contra el resto es bastante amplia. Se puede decir que la mayoría de presidiarios se encuentran en estas instituciones en los diferentes estados"
   ]
  },
  {
   "cell_type": "markdown",
   "metadata": {
    "id": "6Dn6M6c2rBRZ"
   },
   "source": [
    "### Ejercicio 15\n",
    "Se ha visto que las mujeres tienen una menor presencia en las prisiones de India, entonces muestre el Top 5 de estados con menor número de mujeres.\n",
    "#### Respuesta"
   ]
  },
  {
   "cell_type": "code",
   "execution_count": null,
   "metadata": {
    "colab": {
     "base_uri": "https://localhost:8080/",
     "height": 204
    },
    "id": "tzDtzzU0qfLp",
    "outputId": "a724bba2-d154-4cde-f8f8-e4d9ce167ddf"
   },
   "outputs": [
    {
     "data": {
      "text/html": [
       "<div>\n",
       "<style scoped>\n",
       "    .dataframe tbody tr th:only-of-type {\n",
       "        vertical-align: middle;\n",
       "    }\n",
       "\n",
       "    .dataframe tbody tr th {\n",
       "        vertical-align: top;\n",
       "    }\n",
       "\n",
       "    .dataframe thead th {\n",
       "        text-align: right;\n",
       "    }\n",
       "</style>\n",
       "<table border=\"1\" class=\"dataframe\">\n",
       "  <thead>\n",
       "    <tr style=\"text-align: right;\">\n",
       "      <th></th>\n",
       "      <th>State_UT_name</th>\n",
       "      <th>Total_Female</th>\n",
       "    </tr>\n",
       "  </thead>\n",
       "  <tbody>\n",
       "    <tr>\n",
       "      <th>0</th>\n",
       "      <td>Lakshadweep</td>\n",
       "      <td>2</td>\n",
       "    </tr>\n",
       "    <tr>\n",
       "      <th>1</th>\n",
       "      <td>D &amp; N Haveli</td>\n",
       "      <td>32</td>\n",
       "    </tr>\n",
       "    <tr>\n",
       "      <th>2</th>\n",
       "      <td>Arunachal Pradesh</td>\n",
       "      <td>38</td>\n",
       "    </tr>\n",
       "    <tr>\n",
       "      <th>3</th>\n",
       "      <td>Daman &amp; Diu</td>\n",
       "      <td>38</td>\n",
       "    </tr>\n",
       "    <tr>\n",
       "      <th>4</th>\n",
       "      <td>A &amp; N Islands</td>\n",
       "      <td>104</td>\n",
       "    </tr>\n",
       "  </tbody>\n",
       "</table>\n",
       "</div>"
      ],
      "text/plain": [
       "       State_UT_name  Total_Female\n",
       "0        Lakshadweep             2\n",
       "1       D & N Haveli            32\n",
       "2  Arunachal Pradesh            38\n",
       "3        Daman & Diu            38\n",
       "4      A & N Islands           104"
      ]
     },
     "execution_count": 48,
     "metadata": {
      "tags": []
     },
     "output_type": "execute_result"
    }
   ],
   "source": [
    "df.groupby('State_UT_name')['Total_Female'].sum().sort_values().head(5).reset_index()"
   ]
  },
  {
   "cell_type": "markdown",
   "metadata": {
    "id": "FVTUWsqNJALW"
   },
   "source": [
    "### Ejercicio 16\n",
    "Se ha demostrado que los hombres son la población mayoritaria las prisiones de India, por tanto, muestre el Top 5 de estados con mayor número de hombres.\n",
    "#### Respuesta"
   ]
  },
  {
   "cell_type": "code",
   "execution_count": null,
   "metadata": {
    "colab": {
     "base_uri": "https://localhost:8080/",
     "height": 204
    },
    "id": "0Sd9YmTKJjMU",
    "outputId": "6c6b2bbb-fd16-44be-b8b9-04fde4714195"
   },
   "outputs": [
    {
     "data": {
      "text/html": [
       "<div>\n",
       "<style scoped>\n",
       "    .dataframe tbody tr th:only-of-type {\n",
       "        vertical-align: middle;\n",
       "    }\n",
       "\n",
       "    .dataframe tbody tr th {\n",
       "        vertical-align: top;\n",
       "    }\n",
       "\n",
       "    .dataframe thead th {\n",
       "        text-align: right;\n",
       "    }\n",
       "</style>\n",
       "<table border=\"1\" class=\"dataframe\">\n",
       "  <thead>\n",
       "    <tr style=\"text-align: right;\">\n",
       "      <th></th>\n",
       "      <th>State_UT_name</th>\n",
       "      <th>Total_Male</th>\n",
       "    </tr>\n",
       "  </thead>\n",
       "  <tbody>\n",
       "    <tr>\n",
       "      <th>0</th>\n",
       "      <td>Uttar Pradesh</td>\n",
       "      <td>1745280</td>\n",
       "    </tr>\n",
       "    <tr>\n",
       "      <th>1</th>\n",
       "      <td>Bihar</td>\n",
       "      <td>896746</td>\n",
       "    </tr>\n",
       "    <tr>\n",
       "      <th>2</th>\n",
       "      <td>Madhya Pradesh</td>\n",
       "      <td>794790</td>\n",
       "    </tr>\n",
       "    <tr>\n",
       "      <th>3</th>\n",
       "      <td>Maharashtra</td>\n",
       "      <td>609530</td>\n",
       "    </tr>\n",
       "    <tr>\n",
       "      <th>4</th>\n",
       "      <td>West Bengal</td>\n",
       "      <td>446798</td>\n",
       "    </tr>\n",
       "  </tbody>\n",
       "</table>\n",
       "</div>"
      ],
      "text/plain": [
       "    State_UT_name  Total_Male\n",
       "0   Uttar Pradesh     1745280\n",
       "1           Bihar      896746\n",
       "2  Madhya Pradesh      794790\n",
       "3     Maharashtra      609530\n",
       "4     West Bengal      446798"
      ]
     },
     "execution_count": 49,
     "metadata": {
      "tags": []
     },
     "output_type": "execute_result"
    }
   ],
   "source": [
    "df.groupby('State_UT_name')['Total_Male'].sum().sort_values(ascending = False).head(5).reset_index()"
   ]
  }
 ],
 "metadata": {
  "colab": {
   "collapsed_sections": [],
   "name": "caso10.ipynb",
   "provenance": [],
   "toc_visible": true
  },
  "kernelspec": {
   "display_name": "Python 3",
   "language": "python",
   "name": "python3"
  },
  "language_info": {
   "codemirror_mode": {
    "name": "ipython",
    "version": 3
   },
   "file_extension": ".py",
   "mimetype": "text/x-python",
   "name": "python",
   "nbconvert_exporter": "python",
   "pygments_lexer": "ipython3",
   "version": "3.9.5"
  }
 },
 "nbformat": 4,
 "nbformat_minor": 1
}
